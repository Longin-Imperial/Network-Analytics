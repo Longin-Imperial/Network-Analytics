{
 "cells": [
  {
   "cell_type": "markdown",
   "metadata": {},
   "source": [
    "<h1>NetworkX Exercise\n"
   ]
  },
  {
   "cell_type": "markdown",
   "metadata": {},
   "source": [
    "Importing necessary libraries for the assignment"
   ]
  },
  {
   "cell_type": "code",
   "execution_count": 1,
   "metadata": {},
   "outputs": [],
   "source": [
    "import networkx as nx\n",
    "import numpy as np\n",
    "import pandas as pd\n",
    "import pydot as pt\n",
    "import pygraphviz as pgv\n",
    "import sys\n",
    "import matplotlib.pyplot as plt"
   ]
  },
  {
   "cell_type": "markdown",
   "metadata": {},
   "source": [
    "<h2> QUESTION A\n",
    "<h3> Correlation matrix"
   ]
  },
  {
   "cell_type": "markdown",
   "metadata": {},
   "source": [
    "I have used pandas library to load the CSV file as pandas DataFrame object."
   ]
  },
  {
   "cell_type": "code",
   "execution_count": 2,
   "metadata": {},
   "outputs": [],
   "source": [
    "df = pd.read_csv(\"HW1_asset_prices.csv\")"
   ]
  },
  {
   "cell_type": "markdown",
   "metadata": {},
   "source": [
    "I have calculated correlation matrix from given asset prices, with **corr()** function of pandas library, and assign it to a variable called **correlation**."
   ]
  },
  {
   "cell_type": "code",
   "execution_count": 3,
   "metadata": {},
   "outputs": [
    {
     "data": {
      "text/html": [
       "<div>\n",
       "<style scoped>\n",
       "    .dataframe tbody tr th:only-of-type {\n",
       "        vertical-align: middle;\n",
       "    }\n",
       "\n",
       "    .dataframe tbody tr th {\n",
       "        vertical-align: top;\n",
       "    }\n",
       "\n",
       "    .dataframe thead th {\n",
       "        text-align: right;\n",
       "    }\n",
       "</style>\n",
       "<table border=\"1\" class=\"dataframe\">\n",
       "  <thead>\n",
       "    <tr style=\"text-align: right;\">\n",
       "      <th></th>\n",
       "      <th>EOD~BND.11</th>\n",
       "      <th>EOD~DBC.11</th>\n",
       "      <th>EOD~DIA.11</th>\n",
       "      <th>EOD~EEM.11</th>\n",
       "      <th>EOD~EFA.11</th>\n",
       "      <th>EOD~EMB.11</th>\n",
       "      <th>EOD~EPP.11</th>\n",
       "      <th>EOD~EWG.11</th>\n",
       "      <th>EOD~EWI.11</th>\n",
       "      <th>EOD~EWJ.11</th>\n",
       "      <th>...</th>\n",
       "      <th>EOD~VGK.11</th>\n",
       "      <th>EOD~VPL.11</th>\n",
       "      <th>EOD~VXX.11</th>\n",
       "      <th>EOD~XLB.11</th>\n",
       "      <th>EOD~XLE.11</th>\n",
       "      <th>EOD~XLF.11</th>\n",
       "      <th>EOD~XLK.11</th>\n",
       "      <th>EOD~XLU.11</th>\n",
       "      <th>EOD~CSJ.11</th>\n",
       "      <th>EOD~FXF.11</th>\n",
       "    </tr>\n",
       "  </thead>\n",
       "  <tbody>\n",
       "    <tr>\n",
       "      <td>EOD~BND.11</td>\n",
       "      <td>1.000000</td>\n",
       "      <td>-0.822062</td>\n",
       "      <td>0.794479</td>\n",
       "      <td>0.069905</td>\n",
       "      <td>0.114368</td>\n",
       "      <td>0.912854</td>\n",
       "      <td>0.119582</td>\n",
       "      <td>0.099310</td>\n",
       "      <td>-0.482615</td>\n",
       "      <td>0.638039</td>\n",
       "      <td>...</td>\n",
       "      <td>-0.037230</td>\n",
       "      <td>0.536324</td>\n",
       "      <td>-0.900317</td>\n",
       "      <td>0.597031</td>\n",
       "      <td>-0.613705</td>\n",
       "      <td>0.689425</td>\n",
       "      <td>0.845532</td>\n",
       "      <td>0.941027</td>\n",
       "      <td>0.934951</td>\n",
       "      <td>-0.769985</td>\n",
       "    </tr>\n",
       "    <tr>\n",
       "      <td>EOD~DBC.11</td>\n",
       "      <td>-0.822062</td>\n",
       "      <td>1.000000</td>\n",
       "      <td>-0.574282</td>\n",
       "      <td>0.349666</td>\n",
       "      <td>0.200079</td>\n",
       "      <td>-0.600426</td>\n",
       "      <td>0.325952</td>\n",
       "      <td>0.228763</td>\n",
       "      <td>0.600429</td>\n",
       "      <td>-0.472528</td>\n",
       "      <td>...</td>\n",
       "      <td>0.333239</td>\n",
       "      <td>-0.215966</td>\n",
       "      <td>0.773717</td>\n",
       "      <td>-0.238640</td>\n",
       "      <td>0.895370</td>\n",
       "      <td>-0.509694</td>\n",
       "      <td>-0.644009</td>\n",
       "      <td>-0.717165</td>\n",
       "      <td>-0.713552</td>\n",
       "      <td>0.870505</td>\n",
       "    </tr>\n",
       "    <tr>\n",
       "      <td>EOD~DIA.11</td>\n",
       "      <td>0.794479</td>\n",
       "      <td>-0.574282</td>\n",
       "      <td>1.000000</td>\n",
       "      <td>0.468724</td>\n",
       "      <td>0.563945</td>\n",
       "      <td>0.917934</td>\n",
       "      <td>0.519725</td>\n",
       "      <td>0.568437</td>\n",
       "      <td>-0.070294</td>\n",
       "      <td>0.897045</td>\n",
       "      <td>...</td>\n",
       "      <td>0.412195</td>\n",
       "      <td>0.875397</td>\n",
       "      <td>-0.883305</td>\n",
       "      <td>0.898652</td>\n",
       "      <td>-0.346392</td>\n",
       "      <td>0.975872</td>\n",
       "      <td>0.988677</td>\n",
       "      <td>0.910599</td>\n",
       "      <td>0.917660</td>\n",
       "      <td>-0.657030</td>\n",
       "    </tr>\n",
       "    <tr>\n",
       "      <td>EOD~EEM.11</td>\n",
       "      <td>0.069905</td>\n",
       "      <td>0.349666</td>\n",
       "      <td>0.468724</td>\n",
       "      <td>1.000000</td>\n",
       "      <td>0.906563</td>\n",
       "      <td>0.383581</td>\n",
       "      <td>0.968244</td>\n",
       "      <td>0.871560</td>\n",
       "      <td>0.609441</td>\n",
       "      <td>0.553773</td>\n",
       "      <td>...</td>\n",
       "      <td>0.872187</td>\n",
       "      <td>0.788827</td>\n",
       "      <td>-0.162012</td>\n",
       "      <td>0.743330</td>\n",
       "      <td>0.522937</td>\n",
       "      <td>0.488016</td>\n",
       "      <td>0.403966</td>\n",
       "      <td>0.239615</td>\n",
       "      <td>0.227668</td>\n",
       "      <td>0.224999</td>\n",
       "    </tr>\n",
       "    <tr>\n",
       "      <td>EOD~EFA.11</td>\n",
       "      <td>0.114368</td>\n",
       "      <td>0.200079</td>\n",
       "      <td>0.563945</td>\n",
       "      <td>0.906563</td>\n",
       "      <td>1.000000</td>\n",
       "      <td>0.412868</td>\n",
       "      <td>0.881808</td>\n",
       "      <td>0.961832</td>\n",
       "      <td>0.722791</td>\n",
       "      <td>0.701312</td>\n",
       "      <td>...</td>\n",
       "      <td>0.975473</td>\n",
       "      <td>0.852729</td>\n",
       "      <td>-0.274274</td>\n",
       "      <td>0.759922</td>\n",
       "      <td>0.333035</td>\n",
       "      <td>0.596364</td>\n",
       "      <td>0.504831</td>\n",
       "      <td>0.291689</td>\n",
       "      <td>0.308123</td>\n",
       "      <td>0.135446</td>\n",
       "    </tr>\n",
       "  </tbody>\n",
       "</table>\n",
       "<p>5 rows × 39 columns</p>\n",
       "</div>"
      ],
      "text/plain": [
       "            EOD~BND.11  EOD~DBC.11  EOD~DIA.11  EOD~EEM.11  EOD~EFA.11  \\\n",
       "EOD~BND.11    1.000000   -0.822062    0.794479    0.069905    0.114368   \n",
       "EOD~DBC.11   -0.822062    1.000000   -0.574282    0.349666    0.200079   \n",
       "EOD~DIA.11    0.794479   -0.574282    1.000000    0.468724    0.563945   \n",
       "EOD~EEM.11    0.069905    0.349666    0.468724    1.000000    0.906563   \n",
       "EOD~EFA.11    0.114368    0.200079    0.563945    0.906563    1.000000   \n",
       "\n",
       "            EOD~EMB.11  EOD~EPP.11  EOD~EWG.11  EOD~EWI.11  EOD~EWJ.11  ...  \\\n",
       "EOD~BND.11    0.912854    0.119582    0.099310   -0.482615    0.638039  ...   \n",
       "EOD~DBC.11   -0.600426    0.325952    0.228763    0.600429   -0.472528  ...   \n",
       "EOD~DIA.11    0.917934    0.519725    0.568437   -0.070294    0.897045  ...   \n",
       "EOD~EEM.11    0.383581    0.968244    0.871560    0.609441    0.553773  ...   \n",
       "EOD~EFA.11    0.412868    0.881808    0.961832    0.722791    0.701312  ...   \n",
       "\n",
       "            EOD~VGK.11  EOD~VPL.11  EOD~VXX.11  EOD~XLB.11  EOD~XLE.11  \\\n",
       "EOD~BND.11   -0.037230    0.536324   -0.900317    0.597031   -0.613705   \n",
       "EOD~DBC.11    0.333239   -0.215966    0.773717   -0.238640    0.895370   \n",
       "EOD~DIA.11    0.412195    0.875397   -0.883305    0.898652   -0.346392   \n",
       "EOD~EEM.11    0.872187    0.788827   -0.162012    0.743330    0.522937   \n",
       "EOD~EFA.11    0.975473    0.852729   -0.274274    0.759922    0.333035   \n",
       "\n",
       "            EOD~XLF.11  EOD~XLK.11  EOD~XLU.11  EOD~CSJ.11  EOD~FXF.11  \n",
       "EOD~BND.11    0.689425    0.845532    0.941027    0.934951   -0.769985  \n",
       "EOD~DBC.11   -0.509694   -0.644009   -0.717165   -0.713552    0.870505  \n",
       "EOD~DIA.11    0.975872    0.988677    0.910599    0.917660   -0.657030  \n",
       "EOD~EEM.11    0.488016    0.403966    0.239615    0.227668    0.224999  \n",
       "EOD~EFA.11    0.596364    0.504831    0.291689    0.308123    0.135446  \n",
       "\n",
       "[5 rows x 39 columns]"
      ]
     },
     "execution_count": 3,
     "metadata": {},
     "output_type": "execute_result"
    }
   ],
   "source": [
    "correlation = df.corr() \n",
    "correlation.head()"
   ]
  },
  {
   "cell_type": "markdown",
   "metadata": {},
   "source": [
    "Next, I have transformed our correlation matrix, from DataFrame object into numpy matrix array."
   ]
  },
  {
   "cell_type": "code",
   "execution_count": 4,
   "metadata": {},
   "outputs": [],
   "source": [
    "correlation_matrix = np.asmatrix(correlation)"
   ]
  },
  {
   "cell_type": "markdown",
   "metadata": {},
   "source": [
    "We can see that **correlation_matrix** variable is a matrix with calculated asset correlation coefficients."
   ]
  },
  {
   "cell_type": "code",
   "execution_count": 5,
   "metadata": {},
   "outputs": [
    {
     "data": {
      "text/plain": [
       "matrix([[ 1.        , -0.82206194,  0.7944792 , ...,  0.94102682,\n",
       "          0.93495058, -0.76998484],\n",
       "        [-0.82206194,  1.        , -0.5742816 , ..., -0.71716539,\n",
       "         -0.71355201,  0.87050482],\n",
       "        [ 0.7944792 , -0.5742816 ,  1.        , ...,  0.91059853,\n",
       "          0.91766044, -0.65703029],\n",
       "        ...,\n",
       "        [ 0.94102682, -0.71716539,  0.91059853, ...,  1.        ,\n",
       "          0.96040775, -0.72589881],\n",
       "        [ 0.93495058, -0.71355201,  0.91766044, ...,  0.96040775,\n",
       "          1.        , -0.72806496],\n",
       "        [-0.76998484,  0.87050482, -0.65703029, ..., -0.72589881,\n",
       "         -0.72806496,  1.        ]])"
      ]
     },
     "execution_count": 5,
     "metadata": {},
     "output_type": "execute_result"
    }
   ],
   "source": [
    "correlation_matrix"
   ]
  },
  {
   "cell_type": "markdown",
   "metadata": {},
   "source": [
    "<h2> QUESTION B\n",
    "<h3> Graph of correlated assets </h3>\n",
    "<br>\n",
    "<p style='text-align: justify;'>In this task I have created a graph with chosen layout settings, which in my opinion was the best fir for this kind of dataset.  Under the graph, I have placed explanation of the choice. On the graph assets are represented as nodes, and connection between assets are shown with lines."
   ]
  },
  {
   "cell_type": "markdown",
   "metadata": {},
   "source": [
    "First, I have created a networkx graph object from our correlation matrix (numpy matrix array object)."
   ]
  },
  {
   "cell_type": "code",
   "execution_count": 6,
   "metadata": {},
   "outputs": [],
   "source": [
    "G = nx.from_numpy_matrix(correlation_matrix)"
   ]
  },
  {
   "cell_type": "markdown",
   "metadata": {},
   "source": [
    "<p style='text-align: justify;'>Next, I have assigned the names for different assets, which will be later useful for labeling the nodes in our graph. I have deleted prefix for all assets **EOD~**, as I have found it irrelevant."
   ]
  },
  {
   "cell_type": "code",
   "execution_count": 7,
   "metadata": {},
   "outputs": [],
   "source": [
    "assets_names = correlation.index.values\n",
    "assets_names = [x[-6:] for x in assets_names]              "
   ]
  },
  {
   "cell_type": "markdown",
   "metadata": {},
   "source": [
    "I have relabeled node names, from numbers (as networkx graph object stores it) to earlier prepared assets names."
   ]
  },
  {
   "cell_type": "code",
   "execution_count": 8,
   "metadata": {},
   "outputs": [],
   "source": [
    "G = nx.relabel_nodes(G, lambda x: assets_names[x])"
   ]
  },
  {
   "cell_type": "markdown",
   "metadata": {},
   "source": [
    "I have created a function to display graph using personalized settings, in order for the graph to be visually readable."
   ]
  },
  {
   "cell_type": "code",
   "execution_count": 9,
   "metadata": {},
   "outputs": [],
   "source": [
    "def display(graph):\n",
    "\n",
    "    plt.subplots(figsize=(20, 20))\n",
    "    \n",
    "    # Setting layout\n",
    "    layout = nx.circular_layout(graph)\n",
    "    \n",
    "    #Nodes drawing\n",
    "    nx.draw_networkx_nodes(graph, pos=layout, node_color='red', node_size=700, alpha=0.9)\n",
    "    \n",
    "    #Edges drawing\n",
    "    nx.draw_networkx_edges(graph, pos=layout, edge_color='grey', alpha=0.5)\n",
    "    \n",
    "    #Label styling\n",
    "    nx.draw_networkx_labels(graph, pos=layout, font_size=12, font_weight='bold')\n",
    "    \n",
    "    plt.show()"
   ]
  },
  {
   "cell_type": "markdown",
   "metadata": {},
   "source": [
    "Thanks to the created function, called **display**, I can reproduce graph structure with given settings and given data."
   ]
  },
  {
   "cell_type": "code",
   "execution_count": 10,
   "metadata": {},
   "outputs": [
    {
     "name": "stderr",
     "output_type": "stream",
     "text": [
      "C:\\Users\\Longin\\Anaconda3\\lib\\site-packages\\networkx\\drawing\\nx_pylab.py:517: MatplotlibDeprecationWarning: \n",
      "The iterable function was deprecated in Matplotlib 3.1 and will be removed in 3.3. Use np.iterable instead.\n",
      "  if not cb.iterable(width):\n"
     ]
    },
    {
     "ename": "AttributeError",
     "evalue": "module 'matplotlib.cbook' has no attribute 'is_string_like'",
     "output_type": "error",
     "traceback": [
      "\u001b[1;31m---------------------------------------------------------------------------\u001b[0m",
      "\u001b[1;31mAttributeError\u001b[0m                            Traceback (most recent call last)",
      "\u001b[1;32m<ipython-input-10-d2f7ae059eb1>\u001b[0m in \u001b[0;36m<module>\u001b[1;34m\u001b[0m\n\u001b[1;32m----> 1\u001b[1;33m \u001b[0mdisplay\u001b[0m\u001b[1;33m(\u001b[0m\u001b[0mG\u001b[0m\u001b[1;33m)\u001b[0m\u001b[1;33m\u001b[0m\u001b[1;33m\u001b[0m\u001b[0m\n\u001b[0m",
      "\u001b[1;32m<ipython-input-9-89207ec0c94d>\u001b[0m in \u001b[0;36mdisplay\u001b[1;34m(graph)\u001b[0m\n\u001b[0;32m     10\u001b[0m \u001b[1;33m\u001b[0m\u001b[0m\n\u001b[0;32m     11\u001b[0m     \u001b[1;31m#Edges drawing\u001b[0m\u001b[1;33m\u001b[0m\u001b[1;33m\u001b[0m\u001b[1;33m\u001b[0m\u001b[0m\n\u001b[1;32m---> 12\u001b[1;33m     \u001b[0mnx\u001b[0m\u001b[1;33m.\u001b[0m\u001b[0mdraw_networkx_edges\u001b[0m\u001b[1;33m(\u001b[0m\u001b[0mgraph\u001b[0m\u001b[1;33m,\u001b[0m \u001b[0mpos\u001b[0m\u001b[1;33m=\u001b[0m\u001b[0mlayout\u001b[0m\u001b[1;33m,\u001b[0m \u001b[0medge_color\u001b[0m\u001b[1;33m=\u001b[0m\u001b[1;34m'grey'\u001b[0m\u001b[1;33m,\u001b[0m \u001b[0malpha\u001b[0m\u001b[1;33m=\u001b[0m\u001b[1;36m0.5\u001b[0m\u001b[1;33m)\u001b[0m\u001b[1;33m\u001b[0m\u001b[1;33m\u001b[0m\u001b[0m\n\u001b[0m\u001b[0;32m     13\u001b[0m \u001b[1;33m\u001b[0m\u001b[0m\n\u001b[0;32m     14\u001b[0m     \u001b[1;31m#Label styling\u001b[0m\u001b[1;33m\u001b[0m\u001b[1;33m\u001b[0m\u001b[1;33m\u001b[0m\u001b[0m\n",
      "\u001b[1;32m~\\Anaconda3\\lib\\site-packages\\networkx\\drawing\\nx_pylab.py\u001b[0m in \u001b[0;36mdraw_networkx_edges\u001b[1;34m(G, pos, edgelist, width, edge_color, style, alpha, edge_cmap, edge_vmin, edge_vmax, ax, arrows, label, **kwds)\u001b[0m\n\u001b[0;32m    520\u001b[0m         \u001b[0mlw\u001b[0m \u001b[1;33m=\u001b[0m \u001b[0mwidth\u001b[0m\u001b[1;33m\u001b[0m\u001b[1;33m\u001b[0m\u001b[0m\n\u001b[0;32m    521\u001b[0m \u001b[1;33m\u001b[0m\u001b[0m\n\u001b[1;32m--> 522\u001b[1;33m     \u001b[1;32mif\u001b[0m \u001b[1;32mnot\u001b[0m \u001b[0mcb\u001b[0m\u001b[1;33m.\u001b[0m\u001b[0mis_string_like\u001b[0m\u001b[1;33m(\u001b[0m\u001b[0medge_color\u001b[0m\u001b[1;33m)\u001b[0m\u001b[0;31m \u001b[0m\u001b[0;31m\\\u001b[0m\u001b[1;33m\u001b[0m\u001b[1;33m\u001b[0m\u001b[0m\n\u001b[0m\u001b[0;32m    523\u001b[0m            \u001b[1;32mand\u001b[0m \u001b[0mcb\u001b[0m\u001b[1;33m.\u001b[0m\u001b[0miterable\u001b[0m\u001b[1;33m(\u001b[0m\u001b[0medge_color\u001b[0m\u001b[1;33m)\u001b[0m\u001b[0;31m \u001b[0m\u001b[0;31m\\\u001b[0m\u001b[1;33m\u001b[0m\u001b[1;33m\u001b[0m\u001b[0m\n\u001b[0;32m    524\u001b[0m            \u001b[1;32mand\u001b[0m \u001b[0mlen\u001b[0m\u001b[1;33m(\u001b[0m\u001b[0medge_color\u001b[0m\u001b[1;33m)\u001b[0m \u001b[1;33m==\u001b[0m \u001b[0mlen\u001b[0m\u001b[1;33m(\u001b[0m\u001b[0medge_pos\u001b[0m\u001b[1;33m)\u001b[0m\u001b[1;33m:\u001b[0m\u001b[1;33m\u001b[0m\u001b[1;33m\u001b[0m\u001b[0m\n",
      "\u001b[1;31mAttributeError\u001b[0m: module 'matplotlib.cbook' has no attribute 'is_string_like'"
     ]
    },
    {
     "data": {
      "image/png": "[encoded data removed]",
      "text/plain": [
       "<Figure size 1440x1440 with 1 Axes>"
      ]
     },
     "metadata": {
      "needs_background": "light"
     },
     "output_type": "display_data"
    }
   ],
   "source": [
    "display(G)"
   ]
  },
  {
   "cell_type": "markdown",
   "metadata": {},
   "source": [
    "\n",
    "**WHY THIS LAYOUT?**<br>\n",
    "<p style='text-align: justify;'>I have chosen circular layout. As every asset is connected to every asset and we do not represent the weight of edges at this point, the most convenient way is to set the graph in a circular shape. with even distances between each node, so we could have a regular mesh, improving the visibility (in comparison to other reviewed layouts). Nodes are distributed evenly, over the circle shape (with equal distances between each other) what makes every node visible, they do not overlap. Moreover, nodes connected to each other present regular symmetric mesh. We could spot easily every node. Paths between nodes (edges) are much easier to track in circular shape than in other settings, they do not overlap. It is still a challenge to follow and distinguish edges due to exact same width of every edge, but when we compliment our graph with additional information - width of edges on the basis of their weights, our graph will become much clearer."
   ]
  },
  {
   "cell_type": "markdown",
   "metadata": {},
   "source": [
    "<h2> QUESTION C </h2><br>\n",
    "<p style='text-align: justify;'>I have done this task in two steps. First step was to create a graph, based on previous *display* function, but adding information about weight of edges from the correlation matrix. Next step would be adjusting size of the nodes to a particular criterion.\n",
    "<h3>Part 1 </h3><br>\n",
    "Creating a graph with coefficients from correlation matrix as edges' widths. "
   ]
  },
  {
   "cell_type": "code",
   "execution_count": null,
   "metadata": {},
   "outputs": [],
   "source": [
    "def display_weights(graph):\n",
    "\n",
    "    plt.subplots(figsize=(20, 20))\n",
    "    \n",
    "    # Setting layout\n",
    "    layout = nx.circular_layout(graph)\n",
    "    \n",
    "    # Creating a list of weights\n",
    "    edges_weights = graph.edges(data=True)\n",
    "    weights=[]\n",
    "    for a, b, c in edges_weights:\n",
    "        weights.append(c['weight'])\n",
    "    \n",
    "    # Setting weights width size\n",
    "    weights = ([x**12 for x in weights])\n",
    "    \n",
    "\n",
    "    #Nodes drawing\n",
    "    nx.draw_networkx_nodes(graph, pos=layout, node_color='red', node_size=800, alpha=0.8)\n",
    "    \n",
    "    #Edges drawing\n",
    "    nx.draw_networkx_edges(graph, pos=layout, width=weights, edge_color='grey', alpha=0.7)\n",
    "    \n",
    "    #Label styling\n",
    "    nx.draw_networkx_labels(graph, pos=layout, font_size=12, font_weight='bold')\n",
    "    \n",
    "    plt.show()"
   ]
  },
  {
   "cell_type": "markdown",
   "metadata": {},
   "source": [
    "<p style='text-align: justify;'>I had to adjust the weights of the edges, because the values from the correlation matrix were not sufficient to visualize properly the thickness (too small values). Therefore, I had to rescale the weights raising them to the power of 12, which in result made small values smaller, so some edges are barely visible. Nevertheless, it helped me to make a differentiation between edges, so we have clearer picture."
   ]
  },
  {
   "cell_type": "code",
   "execution_count": null,
   "metadata": {},
   "outputs": [],
   "source": [
    "display_weights(G)"
   ]
  },
  {
   "cell_type": "markdown",
   "metadata": {},
   "source": [
    "<h3> Part 2 </h3>\n",
    "<p style='text-align: justify;'>As we clearly understand nodes in our undirected graph have all similar degree (they are connected all together between each other - degree 39). Therefore, differentiating nodes on the basis would not give us any result. We have to found another criterion, which will allow us to distinct between the node sizes.<br>\n",
    "\n",
    "There are several criteria we could use: **threshold, positive, negative**.\n",
    "\n",
    "<br>**Threshold**<br>\n",
    "<p style='text-align: justify;'>Here, we could use arbitrary chosen threshold for the correlation matrix values. Let us assume we are only interested in strong correlations, and by strong correlation in finance, we commonly understand correlation coefficients greater than 0.8 (in absolute number, for both positive and negative values). Therefore, we will create a function, where we will add all edges above the chosen value of the threshold to the newly created graph, called T. Later on the basis of edges, which remained, we will calculate degree for each node and adjust its size accordingly to its degree.\n",
    "\n",
    "\n"
   ]
  },
  {
   "cell_type": "markdown",
   "metadata": {},
   "source": [
    "First let us create graph T with edges corresponding to correlation coefficient above 0.7."
   ]
  },
  {
   "cell_type": "code",
   "execution_count": null,
   "metadata": {},
   "outputs": [],
   "source": [
    "# New empty graph T\n",
    "T = nx.Graph() \n",
    "    \n",
    "# Adding edges above 0.7 threshold to the graph T\n",
    "edges_weights = G.edges(data=True)\n",
    "    \n",
    "for a, b, c in edges_weights:\n",
    "    if abs(c['weight'])>=0.7:\n",
    "        \n",
    "        # We are adding edges above our threshold, from graph G to graph T\n",
    "        T.add_edge(a, b)\n",
    "        \n",
    "        # We are adding weights, corresponding to edges (a,b), above our threshold, from graph G to graph T\n",
    "        T[a][b]['weight']=abs(c['weight'])      "
   ]
  },
  {
   "cell_type": "markdown",
   "metadata": {},
   "source": [
    "Let us look at graph T."
   ]
  },
  {
   "cell_type": "code",
   "execution_count": null,
   "metadata": {},
   "outputs": [],
   "source": [
    "display_weights(T)"
   ]
  },
  {
   "cell_type": "markdown",
   "metadata": {},
   "source": [
    "<p style='text-align: justify;'> \n",
    "We can see that our graph T contains only edges with weights above set threshold, in our case 0.7. We can spot as well that in the graph, nodes have different degrees than in graph G (where all nodes have the same degree). Let us assign variable node_degrees to the dictionary, with assets as keys and degrees as values."
   ]
  },
  {
   "cell_type": "code",
   "execution_count": null,
   "metadata": {},
   "outputs": [],
   "source": [
    "node_degrees = dict(T.degree())\n",
    "\n",
    "node_degrees"
   ]
  },
  {
   "cell_type": "markdown",
   "metadata": {},
   "source": [
    "Having our list of node sizes, we have to create a list, which will be readable by parameter **node_size** in networkx library function: <br>**draw_networkx_nodes(... node_size= ...)**. We will rescale the size of nodes in order to obtain a visually informative graph."
   ]
  },
  {
   "cell_type": "code",
   "execution_count": null,
   "metadata": {},
   "outputs": [],
   "source": [
    "node_sizes = [node**2.7 for node in node_degrees.values()]"
   ]
  },
  {
   "cell_type": "markdown",
   "metadata": {},
   "source": [
    "Now we are ready to place the **node_sizes** list modifying our function **display_weights()**."
   ]
  },
  {
   "cell_type": "code",
   "execution_count": null,
   "metadata": {},
   "outputs": [],
   "source": [
    "def display_node_sizes(graph):\n",
    "\n",
    "    plt.subplots(figsize=(20, 20))\n",
    "    \n",
    "    # Setting layout\n",
    "    layout = nx.circular_layout(graph)\n",
    "    \n",
    "    # Creating a list of weights\n",
    "    edges_weights = graph.edges(data=True)\n",
    "    \n",
    "    weights=[]\n",
    "    for a, b, c in edges_weights:\n",
    "        weights.append(c['weight'])\n",
    "    \n",
    "    # Setting weights width size\n",
    "    weights = ([x**12 for x in weights])\n",
    "       \n",
    "    #Nodes drawing\n",
    "    nx.draw_networkx_nodes(graph, pos=layout, node_color='red', node_size=node_sizes, alpha=0.8)\n",
    "    \n",
    "    #Edges drawing\n",
    "    nx.draw_networkx_edges(graph, pos=layout, width=weights, edge_color='grey', alpha=1)\n",
    "    \n",
    "    #Label styling\n",
    "    nx.draw_networkx_labels(graph, pos=layout, font_size=12, font_weight='bold')\n",
    "    \n",
    "    plt.show()\n",
    "\n",
    "display_node_sizes(T)"
   ]
  },
  {
   "cell_type": "markdown",
   "metadata": {},
   "source": [
    "<p style='text-align: justify;'>We have obtained visually informative graph. Nodes sizes depends on their degrees, so we can clearly see that the bigger the node the more edges it has, whereas small-sized nodes are barely visible."
   ]
  },
  {
   "cell_type": "markdown",
   "metadata": {},
   "source": [
    "**General function** <br>\n",
    "I have prepared general function for creating such graphs, including different parameters useful for adjusting the graph."
   ]
  },
  {
   "cell_type": "code",
   "execution_count": null,
   "metadata": {},
   "outputs": [],
   "source": [
    "def display_all(graph, threshold, edge_scale, node_scale):\n",
    "\n",
    "    plt.subplots(figsize=(20, 20))\n",
    "    \n",
    "    # New empty graph S\n",
    "    S = nx.Graph() \n",
    "\n",
    "    edges_weights = graph.edges(data=True)\n",
    "    for a, b, c in edges_weights:\n",
    "        if abs(c['weight'])>=threshold:\n",
    "            S.add_edge(a, b)\n",
    "            S[a][b]['weight']=abs(c['weight'])  \n",
    "    \n",
    "    # Setting node size\n",
    "    node_sizes = [node**node_scale for node in dict(S.degree()).values()]\n",
    "\n",
    "    # Creating a list of weights\n",
    "    edges_weights_S = S.edges(data=True)\n",
    "    \n",
    "    weights=[]\n",
    "    for c,d,e in edges_weights_S:\n",
    "        weights.append(e['weight'])\n",
    "    \n",
    "    # Setting weights width size\n",
    "    weights = ([x**edge_scale for x in weights])\n",
    "       \n",
    "    # Setting layout\n",
    "    layout = nx.circular_layout(S)\n",
    "    \n",
    "    #Nodes drawing\n",
    "    nx.draw_networkx_nodes(S, pos=layout, node_color='red', node_size=node_sizes, alpha=0.8)\n",
    "    \n",
    "    #Edges drawing\n",
    "    nx.draw_networkx_edges(S, pos=layout, width=weights, edge_color='grey')\n",
    "    \n",
    "    #Label styling\n",
    "    nx.draw_networkx_labels(S, pos=layout, font_size=12, font_weight='bold')\n",
    "    \n",
    "    plt.show()\n",
    "\n",
    "display_all(G,0.7,12,2.7)"
   ]
  },
  {
   "cell_type": "markdown",
   "metadata": {},
   "source": [
    "<p style='text-align: justify;'>As we can see the result graph is the same as the graph T created manually before, so the function works properly. Now we can use our function attributes to modify the settings as the threshold, node/edge scaling to obtain optimal visual results. "
   ]
  },
  {
   "cell_type": "markdown",
   "metadata": {},
   "source": [
    "<h2> BONUS ANSWERS "
   ]
  },
  {
   "cell_type": "markdown",
   "metadata": {},
   "source": [
    "<h3>Using Pygraphviz library layout function to draw the graph"
   ]
  },
  {
   "cell_type": "code",
   "execution_count": null,
   "metadata": {},
   "outputs": [],
   "source": [
    "def display_using_graphviz(graph):\n",
    "\n",
    "    plt.subplots(figsize=(20, 20))\n",
    "    \n",
    "    # Setting layout with added GRAPHVIZ function\n",
    "    layout = nx.nx_agraph.graphviz_layout(G, prog='twopi')\n",
    "    \n",
    "    #Nodes drawing\n",
    "    nx.draw_networkx_nodes(graph, pos=layout, node_color='red', node_size=800, alpha=0.9)\n",
    "    \n",
    "    #Edges drawing\n",
    "    nx.draw_networkx_edges(graph, pos=layout, edge_color='blue', alpha=0.5)\n",
    "    \n",
    "    #Label styling\n",
    "    nx.draw_networkx_labels(graph, pos=layout, font_size=12, font_color='black', font_family='sans-serif', font_weight='bold')\n",
    "    \n",
    "    #Displaying the graph figure\n",
    "    plt.show()\n",
    "    \n",
    "display_using_graphviz(T)"
   ]
  },
  {
   "cell_type": "markdown",
   "metadata": {},
   "source": [
    "<h3>Using Pydot library layout function to draw the graph"
   ]
  },
  {
   "cell_type": "code",
   "execution_count": null,
   "metadata": {},
   "outputs": [],
   "source": [
    "def display_using_pydot(graph):\n",
    "\n",
    "    plt.subplots(figsize=(20, 20))\n",
    "    \n",
    "    # Setting layout with added PYDOT function\n",
    "    layout = nx.nx_pydot.pydot_layout(graph, prog='dot')\n",
    "    \n",
    "    #Nodes drawing\n",
    "    nx.draw_networkx_nodes(graph, pos=layout, node_color='red', node_size=800, alpha=0.9)\n",
    "    \n",
    "    #Edges drawing\n",
    "    nx.draw_networkx_edges(graph, pos=layout, edge_color='blue', alpha=0.5)\n",
    "    \n",
    "    #Label styling\n",
    "    nx.draw_networkx_labels(graph, pos=layout, font_size=12, font_color='black', font_family='sans-serif', font_weight='bold')\n",
    "    \n",
    "    #Displaying the graph figure\n",
    "    plt.show()\n",
    "\n",
    "display_using_pydot(T)"
   ]
  },
  {
   "cell_type": "markdown",
   "metadata": {},
   "source": [
    "**USING SEABORN LIBRARY TO CREATE A HEATMAP** <br>\n",
    "Additionaly, I have used Seaborn library to visualize correlation matrix as a heatmap. Positive correlation coefficients are presented with warmer colors (from red up to white spectrum) and negative correlation coefficient is presented with dark spectrum (from red to black colors). With the given picture we can find the patterns by color, which for human eye is more distinguishable than the networks itself. Although I think both methods compliment each other to spot the patterns, so to better understand the situation in the dataset."
   ]
  },
  {
   "cell_type": "code",
   "execution_count": null,
   "metadata": {},
   "outputs": [],
   "source": [
    "import seaborn as sns\n",
    "%matplotlib inline\n",
    "\n",
    "plt.figure(figsize=(15,15)) \n",
    "\n",
    "sns.heatmap(correlation, \n",
    "        xticklabels=correlation.columns,\n",
    "        yticklabels=correlation.columns)"
   ]
  }
 ],
 "metadata": {
  "kernelspec": {
   "display_name": "Python 3",
   "language": "python",
   "name": "python3"
  },
  "language_info": {
   "codemirror_mode": {
    "name": "ipython",
    "version": 3
   },
   "file_extension": ".py",
   "mimetype": "text/x-python",
   "name": "python",
   "nbconvert_exporter": "python",
   "pygments_lexer": "ipython3",
   "version": "3.7.1"
  }
 },
 "nbformat": 4,
 "nbformat_minor": 2
}
